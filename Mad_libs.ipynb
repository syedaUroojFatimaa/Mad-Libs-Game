{
  "nbformat": 4,
  "nbformat_minor": 0,
  "metadata": {
    "colab": {
      "provenance": [],
      "authorship_tag": "ABX9TyMmn85ALPH72h9zC9ZExZWa",
      "include_colab_link": true
    },
    "kernelspec": {
      "name": "python3",
      "display_name": "Python 3"
    },
    "language_info": {
      "name": "python"
    }
  },
  "cells": [
    {
      "cell_type": "markdown",
      "metadata": {
        "id": "view-in-github",
        "colab_type": "text"
      },
      "source": [
        "<a href=\"https://colab.research.google.com/github/syedaUroojFatimaa/Mad-Libs-Game/blob/main/Mad_libs.ipynb\" target=\"_parent\"><img src=\"https://colab.research.google.com/assets/colab-badge.svg\" alt=\"Open In Colab\"/></a>"
      ]
    },
    {
      "cell_type": "code",
      "execution_count": 1,
      "metadata": {
        "colab": {
          "base_uri": "https://localhost:8080/"
        },
        "id": "8si3n5kdVTa7",
        "outputId": "a39624f5-1a63-4b06-8b85-d962482ef664"
      },
      "outputs": [
        {
          "output_type": "stream",
          "name": "stdout",
          "text": [
            "Enter a name: urooj\n",
            "Enter a place: korea\n",
            "Enter an animal: cat\n",
            "Enter a verb: dance\n",
            "Enter an adjective: fluffy\n",
            "\n",
            "Here is your Mad Libs story:\n",
            "\n",
            "\n",
            "    One day, urooj went to korea. \n",
            "    While exploring, they saw a fluffy cat that was trying to dance.\n",
            "    It was the funniest thing urooj had ever seen!\n",
            "    \n"
          ]
        }
      ],
      "source": [
        "def mad_libs():\n",
        "    # Getting user inputs\n",
        "    name = input(\"Enter a name: \")\n",
        "    place = input(\"Enter a place: \")\n",
        "    animal = input(\"Enter an animal: \")\n",
        "    verb = input(\"Enter a verb: \")\n",
        "    adjective = input(\"Enter an adjective: \")\n",
        "\n",
        "    # Story template\n",
        "    story = f\"\"\"\n",
        "    One day, {name} went to {place}.\n",
        "    While exploring, they saw a {adjective} {animal} that was trying to {verb}.\n",
        "    It was the funniest thing {name} had ever seen!\n",
        "    \"\"\"\n",
        "\n",
        "    # Printing the funny story\n",
        "    print(\"\\nHere is your Mad Libs story:\\n\")\n",
        "    print(story)\n",
        "\n",
        "# Run the Mad Libs game\n",
        "mad_libs()\n"
      ]
    }
  ]
}